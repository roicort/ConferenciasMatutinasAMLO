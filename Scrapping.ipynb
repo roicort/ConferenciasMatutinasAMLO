{
 "cells": [
  {
   "cell_type": "code",
   "execution_count": 8,
   "metadata": {},
   "outputs": [
    {
     "data": {
      "text/html": [
       "\n",
       "<style>\n",
       "    /* Turns off some styling */\n",
       "    progress {\n",
       "        /* gets rid of default border in Firefox and Opera. */\n",
       "        border: none;\n",
       "        /* Needs to be in here for Safari polyfill so background images work as expected. */\n",
       "        background-size: auto;\n",
       "    }\n",
       "    progress:not([value]), progress:not([value])::-webkit-progress-bar {\n",
       "        background: repeating-linear-gradient(45deg, #7e7e7e, #7e7e7e 10px, #5c5c5c 10px, #5c5c5c 20px);\n",
       "    }\n",
       "    .progress-bar-interrupted, .progress-bar-interrupted::-webkit-progress-bar {\n",
       "        background: #F44336;\n",
       "    }\n",
       "</style>\n"
      ],
      "text/plain": [
       "<IPython.core.display.HTML object>"
      ]
     },
     "metadata": {},
     "output_type": "display_data"
    },
    {
     "data": {
      "text/html": [],
      "text/plain": [
       "<IPython.core.display.HTML object>"
      ]
     },
     "metadata": {},
     "output_type": "display_data"
    }
   ],
   "source": [
    "import requests\n",
    "from bs4 import BeautifulSoup\n",
    "import html2text\n",
    "from dateutil import parser\n",
    "from fastprogress.fastprogress import master_bar, progress_bar\n",
    "\n",
    "meses = {\n",
    "    'enero': '01',\n",
    "    'febrero': '02',\n",
    "    'marzo': '03',\n",
    "    'abril': '04',\n",
    "    'mayo': '05',\n",
    "    'junio': '06',\n",
    "    'julio': '07',\n",
    "    'agosto': '08',\n",
    "    'septiembre': '09',\n",
    "    'octubre': '10',\n",
    "    'noviembre': '11',\n",
    "    'diciembre': '12'\n",
    "}\n",
    "\n",
    "# Paso 1: Hacer una solicitud HTTP a la página web\n",
    "url = 'https://www.gob.mx/presidencia/es/archivo/articulos?category=764&filter_origin=archive&idiom=es&order=DESC&page='\n",
    "\n",
    "\n",
    "mb = master_bar(range(1, 258))\n",
    "\n",
    "for i in mb:\n",
    "    response = requests.get(url + str(i))\n",
    "    soup = BeautifulSoup(response.content, 'html.parser')\n",
    "    titulos = soup.find_all('h2')\n",
    "    for j in progress_bar(range(len(titulos)), parent=mb):\n",
    "        titulo = titulos[j]\n",
    "        link = titulo.find('a')['href'][2:-2]\n",
    "        article_url = 'https://www.gob.mx' + link\n",
    "        article_response = requests.get(article_url)\n",
    "        article_soup = BeautifulSoup(article_response.content, 'html.parser')\n",
    "        # Find tabindex=\"0\"\n",
    "        article = article_soup.find_all('div', {'tabindex': '0'})[0]\n",
    "        title = article_soup.find('h1').text\n",
    "\n",
    "        date_text = article_soup.find('p').text.split('|')[-1].strip()\n",
    "        day, month_name, year = date_text.split(' de ')\n",
    "        month = meses[month_name.lower()]\n",
    "        formatted_date = f\"{year}-{month}-{day.strip()}\"\n",
    "\n",
    "        title = title.replace('Versión estenográfica. ', '')\n",
    "\n",
    "        markdown = html2text.html2text(article.prettify())\n",
    "        with open(f'./corpus/{formatted_date}.md', 'w') as f:\n",
    "            f.write(markdown)\n",
    "\n"
   ]
  }
 ],
 "metadata": {
  "kernelspec": {
   "display_name": "datascience",
   "language": "python",
   "name": "python3"
  },
  "language_info": {
   "codemirror_mode": {
    "name": "ipython",
    "version": 3
   },
   "file_extension": ".py",
   "mimetype": "text/x-python",
   "name": "python",
   "nbconvert_exporter": "python",
   "pygments_lexer": "ipython3",
   "version": "3.10.14"
  }
 },
 "nbformat": 4,
 "nbformat_minor": 2
}
